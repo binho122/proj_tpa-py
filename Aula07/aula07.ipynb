{
 "cells": [
  {
   "cell_type": "markdown",
   "metadata": {},
   "source": [
    "# Manipulação de strings com python"
   ]
  },
  {
   "cell_type": "markdown",
   "metadata": {},
   "source": [
    "> uma variavel primaria de texto é chamada de char ou caracter possibilitando o armazenamento de 8 bit de memoria . Quando necessitamos de um conjunto de caracteres utilizando um objeto, ou varias compostas no caso da maioria das linguagens chamada de string.Vamos ver como se aplica"
   ]
  },
  {
   "cell_type": "code",
   "execution_count": 2,
   "metadata": {},
   "outputs": [
    {
     "name": "stdout",
     "output_type": "stream",
     "text": [
      "boa tarde a todos\n",
      "boa tarde\n"
     ]
    }
   ],
   "source": [
    "frase = \"boa tarde a todos\"\n",
    "print(frase)\n",
    "saudacao = frase[0:9]\n",
    "print(saudacao)"
   ]
  },
  {
   "cell_type": "code",
   "execution_count": 3,
   "metadata": {},
   "outputs": [
    {
     "name": "stdout",
     "output_type": "stream",
     "text": [
      "<class 'str'>\n",
      "<class 'str'>\n"
     ]
    }
   ],
   "source": [
    "print(type(frase))\n",
    "print(type(saudacao))\n"
   ]
  },
  {
   "cell_type": "code",
   "execution_count": 4,
   "metadata": {},
   "outputs": [
    {
     "name": "stdout",
     "output_type": "stream",
     "text": [
      "3\n",
      "1\n"
     ]
    }
   ],
   "source": [
    "print(frase.count(' '))\n",
    "print(saudacao.count(' '))"
   ]
  },
  {
   "cell_type": "code",
   "execution_count": 5,
   "metadata": {},
   "outputs": [
    {
     "name": "stdout",
     "output_type": "stream",
     "text": [
      "17\n",
      "9\n"
     ]
    }
   ],
   "source": [
    "print(len(frase))\n",
    "print(len(saudacao))"
   ]
  },
  {
   "cell_type": "code",
   "execution_count": 7,
   "metadata": {},
   "outputs": [
    {
     "name": "stdout",
     "output_type": "stream",
     "text": [
      "boa tarde galerinha\n",
      "boa noite\n"
     ]
    }
   ],
   "source": [
    "frase = frase.replace('a todos','galerinha')\n",
    "print(frase)\n",
    "saudacao = saudacao.replace('tarde', 'noite')\n",
    "print(saudacao)"
   ]
  },
  {
   "cell_type": "code",
   "execution_count": 8,
   "metadata": {},
   "outputs": [
    {
     "name": "stdout",
     "output_type": "stream",
     "text": [
      "['b', 'o', 'a', ' ', 't', 'a', 'r', 'd', 'e', ' ', 'g', 'a', 'l', 'e', 'r', 'i', 'n', 'h', 'a']\n"
     ]
    }
   ],
   "source": [
    "frase = [i for i in frase]\n",
    "print(frase)"
   ]
  },
  {
   "cell_type": "code",
   "execution_count": 9,
   "metadata": {},
   "outputs": [
    {
     "name": "stdout",
     "output_type": "stream",
     "text": [
      "b\n",
      "o\n",
      "a\n",
      " \n",
      "t\n",
      "a\n",
      "r\n",
      "d\n",
      "e\n",
      " \n",
      "g\n",
      "a\n",
      "l\n",
      "e\n",
      "r\n",
      "i\n",
      "n\n",
      "h\n",
      "a\n"
     ]
    }
   ],
   "source": [
    "for x in frase:\n",
    "    print(x)\n"
   ]
  },
  {
   "cell_type": "markdown",
   "metadata": {},
   "source": [
    "# Exercicio 1"
   ]
  },
  {
   "cell_type": "markdown",
   "metadata": {},
   "source": [
    ">crie um codigo para a seguinte frase\"sabia que o sabia sabia assubir\" repartcionado por espaços, apos isso um print format para a visualização de cada coluna separada"
   ]
  },
  {
   "cell_type": "code",
   "execution_count": 11,
   "metadata": {},
   "outputs": [
    {
     "name": "stdout",
     "output_type": "stream",
     "text": [
      "sabia que o sabiá sabia assubiar\n",
      "sabia que\n"
     ]
    }
   ],
   "source": [
    "frase = \"sabia que o sabiá sabia assubiar\"\n",
    "print(frase)\n",
    "saudacao = frase[0:9]\n",
    "print(saudacao)"
   ]
  },
  {
   "cell_type": "code",
   "execution_count": 15,
   "metadata": {},
   "outputs": [
    {
     "name": "stdout",
     "output_type": "stream",
     "text": [
      "['s', 'a', 'b', 'i', 'a', ' ', 'q', 'u', 'e', ' ', 'o', ' ', 's', 'a', 'b', 'i', 'á', ' ', 's', 'a', 'b', 'i', 'a', ' ', 'a', 's', 's', 'u', 'b', 'i', 'a', 'r']\n"
     ]
    }
   ],
   "source": [
    "frase = [i for i in frase]\n",
    "print(frase)\n"
   ]
  },
  {
   "cell_type": "code",
   "execution_count": 18,
   "metadata": {},
   "outputs": [
    {
     "name": "stdout",
     "output_type": "stream",
     "text": [
      "s\n",
      "a\n",
      "b\n",
      "i\n",
      "a\n",
      " \n",
      "q\n",
      "u\n",
      "e\n",
      " \n",
      "o\n",
      " \n",
      "s\n",
      "a\n",
      "b\n",
      "i\n",
      "á\n",
      " \n",
      "s\n",
      "a\n",
      "b\n",
      "i\n",
      "a\n",
      " \n",
      "a\n",
      "s\n",
      "s\n",
      "u\n",
      "b\n",
      "i\n",
      "a\n",
      "r\n"
     ]
    }
   ],
   "source": [
    "for x in frase:\n",
    "    print(x)"
   ]
  },
  {
   "cell_type": "code",
   "execution_count": null,
   "metadata": {},
   "outputs": [],
   "source": []
  },
  {
   "cell_type": "markdown",
   "metadata": {},
   "source": [
    "# Eu não nasci gay\n",
    "# A culpa é do meu pai\n",
    "# Que contratou um tal de Wilson\n",
    "# Pra ser capataz\n",
    "# Eu vi o bofe tomar banho\n",
    "# E o tamanho da sua mala\n",
    "# Era demais\n",
    "# Além de linda, era demais\n",
    "\n",
    "# Eu virei gay\n",
    "# E me assumi\n",
    "# A arte da pederastia\n",
    "# E pude um dia, então sorrir\n",
    "# Pedi o Wilson em casamento\n",
    "# E o jumento aceitou\n",
    "# A Lua de mel foi no Egito\n",
    "# Eu fui pra cama e dei um grito\n",
    "\n",
    "# E disse: Hey\n",
    "# Vai devagar, amor\n",
    "# Não vai com força, ainda sou moça\n",
    "# E não quero sentir dor\n",
    "# Me trate como uma menina\n",
    "# Vaselina, por favor\n",
    "# Parecia Rambo\n",
    "# Com a sua bazuca na minha nuca\n",
    "\n",
    "# E disse: Vai\n",
    "# Ai, Wilson, vai\n",
    "# Esfrega a mala na minha cara\n",
    "# Vai pra frente e vai pra trás\n",
    "# Pra malona eu dei um grito\n",
    "# Entalei, quase eu vomito\n",
    "# Ai, Wilson, vai\n",
    "# Ai, Wilson, vai\n",
    "# Hey, hey\n",
    "\n",
    "# Ai, Wilson, vai\n",
    "# Ai, Wilson, vai\n",
    "# Hey, hey"
   ]
  }
 ],
 "metadata": {
  "kernelspec": {
   "display_name": "Python 3",
   "language": "python",
   "name": "python3"
  },
  "language_info": {
   "codemirror_mode": {
    "name": "ipython",
    "version": 3
   },
   "file_extension": ".py",
   "mimetype": "text/x-python",
   "name": "python",
   "nbconvert_exporter": "python",
   "pygments_lexer": "ipython3",
   "version": "3.12.2"
  }
 },
 "nbformat": 4,
 "nbformat_minor": 2
}
